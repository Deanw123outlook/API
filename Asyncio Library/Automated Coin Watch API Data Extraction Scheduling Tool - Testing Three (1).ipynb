{
 "cells": [
  {
   "cell_type": "markdown",
   "id": "b750ad19",
   "metadata": {},
   "source": [
    "# Automated Coin Watch API Data Extraction Schedueling Tool\n",
    "\n",
    "#### Website: LIVE_COIN_WATCH\n",
    "#### API: https://www.livecoinwatch.com/tools/api\n",
    "\n",
    "The below script will build a model using specifically Python's Requests and Asyncio libraries to hit an API and extract specific data at set timeframes.\n",
    "\n",
    "Essentially we want to extract data from an API at certain times and build analytical insights from this data using analytical tooling.\n",
    "\n",
    "Resources:\n",
    "\n",
    "https://docs.python.org/3/library/datetime.html\n",
    "\n",
    "https://www.slingacademy.com/article/python-asyncio-run-a-task-at-a-certain-time-every-day/\n",
    "\n",
    "https://www.askpython.com/python-modules/pandas/update-the-value-of-a-row-dataframe#:~:text=With%20the%20Python%20iloc%20%28%29%20method%2C%20it%20is,the%20same.%20Syntax%3A%20dataframe.iloc%5Bindex%5D%20%3D%20value%20Example%3A%20data.iloc"
   ]
  },
  {
   "cell_type": "code",
   "execution_count": null,
   "id": "b0b1f2e4",
   "metadata": {},
   "outputs": [],
   "source": [
    "import numpy as np # numerical python (heavy computational power)\n",
    "import pandas as pd # analytical library\n",
    "\n",
    "import asyncio # scedueling asynchronous tasks\n",
    "import requests # working with APIs\n",
    "\n",
    "import json # json object\n",
    "import datetime # datetime library"
   ]
  },
  {
   "cell_type": "markdown",
   "id": "e7c3521b",
   "metadata": {},
   "source": [
    "API Parameters"
   ]
  },
  {
   "cell_type": "code",
   "execution_count": null,
   "id": "ecbed1e6",
   "metadata": {},
   "outputs": [],
   "source": [
    "url = \"https://api.livecoinwatch.com/coins/list\"\n",
    "\n",
    "payload = json.dumps({\n",
    "  \"currency\": \"USD\",\n",
    "  \"sort\": \"rank\",\n",
    "  \"order\": \"ascending\",\n",
    "  \"offset\": 0,\n",
    "  \"limit\": 100,\n",
    "  \"meta\": False\n",
    "})\n",
    "headers = {\n",
    "  'content-type': 'application/json',\n",
    "  'x-api-key': '98b16066-5b97-48bd-aa0c-66fae75a6db7'\n",
    "}"
   ]
  },
  {
   "cell_type": "markdown",
   "id": "873e46f6",
   "metadata": {},
   "source": [
    "Asyncio co-routine timer"
   ]
  },
  {
   "cell_type": "code",
   "execution_count": null,
   "id": "4c031e1f",
   "metadata": {},
   "outputs": [],
   "source": [
    "# This coroutine will run a coroutine at a specific time\n",
    "async def run_at_time(time, co_routine):\n",
    "    # datetime -> now()\n",
    "    print(\"coroutine_timer\")\n",
    "    # Get the current timestamp\n",
    "    now = datetime.datetime.now() # datetime -->> retrive date time NOW\n",
    "    print(\"run_at_time_now\")\n",
    "    print(now)\n",
    "\n",
    "    # Calculate the delay until the next occurrence of time\n",
    "    delay = ((time - now) % datetime.timedelta(days=1)).total_seconds()\n",
    "    print(\"run_at_time_delay\")\n",
    "    print(delay)\n",
    "\n",
    "    # Sleep until then\n",
    "    await asyncio.sleep(delay) # await -> keyword and expression used within a coroutine to yield execution to an awaitable. \n",
    "\n",
    "    # Run the coroutine\n",
    "    return await co_routine"
   ]
  },
  {
   "cell_type": "markdown",
   "id": "a1c42565",
   "metadata": {},
   "source": [
    "Empty Data Structures "
   ]
  },
  {
   "cell_type": "code",
   "execution_count": null,
   "id": "cfb7b60c",
   "metadata": {},
   "outputs": [],
   "source": [
    "cd, r, v, cp, time_stamp = ([] for i in range(5)) # intiate -> empty lists\n",
    "\n",
    "# Create EMPTYY DataFrame from our models data collected -->> base (globaly declared) dataframes merging API data on each model scrape\n",
    "base_df = pd.DataFrame ({'Coin':cd,'Rate':r,'Volume':v,'Cap':cp})\n",
    "base_metadata_df = pd.DataFrame ({'API-Request-Timestamp':time_stamp})"
   ]
  },
  {
   "cell_type": "markdown",
   "id": "3bbf259a",
   "metadata": {},
   "source": [
    "Asyncio co-routine tasks/jobs"
   ]
  },
  {
   "cell_type": "code",
   "execution_count": null,
   "id": "e9737d54",
   "metadata": {},
   "outputs": [],
   "source": [
    "# This is the coroutine that will be run <--time-->\n",
    "async def api_scraper():\n",
    "    # API post -->> request\n",
    "    response = requests.request(\"POST\", url, headers=headers, data=payload)\n",
    "    \n",
    "    # timestamp\n",
    "    dt_request = datetime.datetime.now() # Getting the current date and time request executed/processes (time will be close to time server was hit for request)\n",
    "    time_stamp.append(dt_request) # add/append to (pre-defined list)\n",
    "    print(dt_request)\n",
    "        \n",
    "    # METADATA\n",
    "    global meta_dataset # global keyword - declare dataframe globally to access in main scope (ie. outside function loop)\n",
    "    metadata = pd.DataFrame({'API-Request-Timestamp':time_stamp})\n",
    "    meta_dataset = pd.merge(base_metadata_df, metadata, how=\"outer\")\n",
    "        \n",
    "    # RESPONE -->> JSON\n",
    "    data = response.json()\n",
    "    \n",
    "    # API Data Extraction\n",
    "    for item in data:\n",
    "        #\n",
    "        cd.append(item['code'])\n",
    "        r.append(item['rate'])\n",
    "        v.append(item['volume'])\n",
    "        cp.append(item['cap'])\n",
    "        \n",
    "        #\n",
    "        df = pd.DataFrame({'Coin':cd,'Rate':r,'Volume':v,'Cap':cp})\n",
    "    #\n",
    "    print(df.tail(4)) # display tail/bottom of dataset\n",
    "        \n",
    "    # \n",
    "    global dataset\n",
    "    dataset = pd.merge(base_df, df, how=\"outer\")\n",
    "    \n",
    "    print(datetime.datetime.now())\n",
    "    print(\"%-+-+-+-+-+-+-+-+-+-+-+-+-+-+-+-+-+-+-+-+-+-+-+-+-+-+-+-+-+-+-+-+-+-+-+-+-+-+-+-+-+-+-+-+$\")"
   ]
  },
  {
   "cell_type": "code",
   "execution_count": null,
   "id": "fa2fd10d",
   "metadata": {},
   "outputs": [],
   "source": [
    "async def main():\n",
    "    # delcare datetime object for <-->\n",
    "    time1 = datetime.datetime.combine(datetime.date.today(), datetime.time(13,30))\n",
    "    time2 = datetime.datetime.combine(datetime.date.today(), datetime.time(13,35))\n",
    "    print(\"main()-->>task-->>creater\")\n",
    "    print(time1)\n",
    "    print(time2)\n",
    "    print(\"%-+-+-+-+-+-+-+-+-+-+-+$\")\n",
    "\n",
    "    # Run api_scraper at <--> every day\n",
    "    while True:\n",
    "        await run_at_time(time1, api_scraper())\n",
    "        await run_at_time(time2, api_scraper())\n",
    "        print(\"main()-close\")"
   ]
  },
  {
   "cell_type": "markdown",
   "id": "0f9e8373",
   "metadata": {},
   "source": [
    "Create Task - Event Loop"
   ]
  },
  {
   "cell_type": "code",
   "execution_count": null,
   "id": "31494c2b",
   "metadata": {},
   "outputs": [],
   "source": [
    "# define -> get running loop\n",
    "event_loop = asyncio.get_running_loop() # get_running_loop() function used to get the running event loop\n",
    "\n",
    "#\n",
    "if event_loop.is_running(): # is_running() function returns True if the event loop is running.\n",
    "    task = asyncio.create_task(main()) # create task -> scheduele co-routine (pass defined coroutine)"
   ]
  },
  {
   "cell_type": "markdown",
   "id": "0e812146",
   "metadata": {},
   "source": [
    "Conclusion\n",
    "\n",
    "The asyncio module helps you execute multiple tasks concurrently without blocking the main thread of execution. Thus, can improve the performance and responsiveness of your program, especially when dealing with IO-bound operations such as network requests, file operations, or database queries. In this article, we used asyncio to build two programs that can rescue us from tiresome stuff. The code is simple, but the core idea will remain unchanged even in large applications."
   ]
  },
  {
   "cell_type": "raw",
   "id": "20a2cd70",
   "metadata": {},
   "source": [
    "dataset"
   ]
  },
  {
   "cell_type": "raw",
   "id": "b24c08b2",
   "metadata": {},
   "source": [
    "meta_dataset"
   ]
  },
  {
   "cell_type": "markdown",
   "id": "31367ccd",
   "metadata": {},
   "source": [
    "DATA ENGINEERING\n"
   ]
  },
  {
   "cell_type": "raw",
   "id": "dc22c3c6",
   "metadata": {},
   "source": [
    "#\n",
    "dataset['TimestampUTC'] = \"null\"\n",
    "\n",
    "#\n",
    "dataset.iloc[0:100,4] = meta_dataset['API-Request-Timestamp'][0]\n",
    "dataset.iloc[101:200,4] = meta_dataset['API-Request-Timestamp'][1]\n",
    "dataset.iloc[201:300,4] = meta_dataset['API-Request-Timestamp'][2]\n",
    "dataset.iloc[301:400,4] = meta_dataset['API-Request-Timestamp'][3]\n",
    "dataset"
   ]
  },
  {
   "cell_type": "raw",
   "id": "bbaf1c92",
   "metadata": {},
   "source": [
    "dataset.to_excel(r'C:\\Users\\dwatters\\Documents\\Product Support\\Python\\asyncio_library\\coinbase_dataset_analysis_.xlsx', index=False)"
   ]
  },
  {
   "cell_type": "markdown",
   "id": "2df0297b",
   "metadata": {},
   "source": [
    "DATA VISUALIZATION"
   ]
  },
  {
   "cell_type": "code",
   "execution_count": null,
   "id": "436a537a",
   "metadata": {},
   "outputs": [],
   "source": [
    "import matplotlib.pyplot as plt\n",
    "import seaborn as sns\n",
    "\n",
    "# plot settings (pre-defined)\n",
    "plt.style.use('ggplot')\n",
    "fig= plt.figure(figsize=(20,7))\n",
    "plt.title(\"Crytocurrency Analytics\")\n",
    "plt.xlabel(\"Timestamp UTC\")\n",
    "plt.ylabel(\"Rate\")\n",
    "\n",
    "# generate line plot\n",
    "plt.plot(analysis['TimestampUTC'],analysis['Rate'])\n",
    "#\n",
    "plt.show()"
   ]
  }
 ],
 "metadata": {
  "kernelspec": {
   "display_name": "Python 3 (ipykernel)",
   "language": "python",
   "name": "python3"
  },
  "language_info": {
   "codemirror_mode": {
    "name": "ipython",
    "version": 3
   },
   "file_extension": ".py",
   "mimetype": "text/x-python",
   "name": "python",
   "nbconvert_exporter": "python",
   "pygments_lexer": "ipython3",
   "version": "3.10.9"
  }
 },
 "nbformat": 4,
 "nbformat_minor": 5
}
