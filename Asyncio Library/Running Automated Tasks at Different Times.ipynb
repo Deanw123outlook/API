{
 "cells": [
  {
   "cell_type": "markdown",
   "id": "fa4e0457",
   "metadata": {},
   "source": [
    "Below we will build a Python script that will automatically perform a specific task at a specific timeframe. We will be using Python's Asyncio library which enables us to write concurrent code using the async/await syntax.\n",
    "\n",
    "Asyncio is used as a foundation for multiple Python asynchronous frameworks that provide high-performance network and web-servers, database connection libraries, distributed task queues, etc.\n",
    "\n",
    "The below scripte objective is to show this will work. Once, completed we can build an API code scrapper to perform data ingestions tasks at specific time intervals.\n",
    "\n",
    "Resources:\n",
    "\n",
    "https://docs.python.org/3/library/datetime.html\n",
    "\n",
    "https://www.slingacademy.com/article/python-asyncio-run-a-task-at-a-certain-time-every-day/"
   ]
  },
  {
   "cell_type": "code",
   "execution_count": 1,
   "id": "5ab9060c",
   "metadata": {},
   "outputs": [],
   "source": [
    "import asyncio\n",
    "import datetime"
   ]
  },
  {
   "cell_type": "code",
   "execution_count": 2,
   "id": "af85dd56",
   "metadata": {},
   "outputs": [],
   "source": [
    "# This coroutine will run a coroutine at a specific time\n",
    "async def run_at_time(time, co_routine):\n",
    "    # datetime -> now()\n",
    "    print(\"coroutine_timer\")\n",
    "    # Get the current timeba\n",
    "    now = datetime.datetime.now() # datetime -->> retrive date time NOW\n",
    "    print(\"run_at_time_now\")\n",
    "    print(now)\n",
    "\n",
    "    # Calculate the delay until the next occurrence of time\n",
    "    delay = ((time - now) % datetime.timedelta(days=1)).total_seconds()\n",
    "    print(\"run_at_time_delay\")\n",
    "    print(delay)\n",
    "\n",
    "    # Sleep until then\n",
    "    await asyncio.sleep(delay) # await -> keyword and expression used within a coroutine to yield execution to an awaitable. \n",
    "\n",
    "    # Run the coroutine\n",
    "    return await co_routine"
   ]
  },
  {
   "cell_type": "markdown",
   "id": "dacc7950",
   "metadata": {},
   "source": [
    "#### Multiple Tasks\n",
    "Declare asyncio coroutine tasks\n",
    "- API Scraper \n",
    "- Code Tester"
   ]
  },
  {
   "cell_type": "code",
   "execution_count": 3,
   "id": "c7b2e4c4",
   "metadata": {},
   "outputs": [],
   "source": [
    "# This is the coroutine that will be run <--time-->\n",
    "async def api_scraper():\n",
    "    print(\"------------------JOB1-START--------------------\")\n",
    "    print(\"testing-api-scraper\")\n",
    "    print(datetime.datetime.now())\n",
    "    print(\"testing-api-scraper\")\n",
    "    print(\"------------------JOB1-END--------------------\")\n",
    "    \n",
    "async def code_tester():\n",
    "    print(\"------------------JOB2-START--------------------\")\n",
    "    print(\"code-tester\")\n",
    "    print(datetime.datetime.now())\n",
    "    print(\"code-tester\")\n",
    "    print(\"------------------JOB2-END--------------------\")\n",
    "    \n",
    "async def api_heatbeat():\n",
    "    print(\"------------------JOB3-START--------------------\")\n",
    "    print(\"api_heatbeat\")\n",
    "    print(datetime.datetime.now())\n",
    "    print(\"api_heatbeat\")\n",
    "    print(\"------------------JOB3-END--------------------\")"
   ]
  },
  {
   "cell_type": "code",
   "execution_count": 4,
   "id": "ba163ad0",
   "metadata": {},
   "outputs": [],
   "source": [
    "async def main():\n",
    "    # delcare datetime object for <-->\n",
    "    time1 = datetime.datetime.combine(datetime.date.today(), datetime.time(18,19))\n",
    "    time2 = datetime.datetime.combine(datetime.date.today(), datetime.time(18,20))\n",
    "    time3 = datetime.datetime.combine(datetime.date.today(), datetime.time(18,21))\n",
    "    print(\"main()-->>task-->>creater\")\n",
    "    print(time1)\n",
    "    print(time2)\n",
    "    print(time3)\n",
    "    print(\"%-+-+-+-+-+-+-+-+-+-+-+$\")\n",
    "\n",
    "    # Run api_scraper at <--> every day\n",
    "    while True:\n",
    "        await run_at_time(time1, api_scraper())\n",
    "        await run_at_time(time2, code_tester())\n",
    "        await run_at_time(time3, api_heatbeat())\n",
    "        print(\"main()-close\")"
   ]
  },
  {
   "cell_type": "markdown",
   "id": "18c129ae",
   "metadata": {},
   "source": [
    "### CREATE TASK -->> EVENT LOOP"
   ]
  },
  {
   "cell_type": "code",
   "execution_count": 5,
   "id": "3c38bdcb",
   "metadata": {},
   "outputs": [
    {
     "name": "stdout",
     "output_type": "stream",
     "text": [
      "main()-->>task-->>creater\n",
      "2024-05-30 18:19:00\n",
      "2024-05-30 18:20:00\n",
      "2024-05-30 18:21:00\n",
      "%-+-+-+-+-+-+-+-+-+-+-+$\n",
      "coroutine_timer\n",
      "run_at_time_now\n",
      "2024-05-30 18:18:27.857237\n",
      "run_at_time_delay\n",
      "32.142763\n",
      "------------------JOB1-START--------------------\n",
      "testing-api-scraper\n",
      "2024-05-30 18:19:00.003660\n",
      "testing-api-scraper\n",
      "------------------JOB1-END--------------------\n",
      "coroutine_timer\n",
      "run_at_time_now\n",
      "2024-05-30 18:19:00.003660\n",
      "run_at_time_delay\n",
      "59.99634\n",
      "------------------JOB2-START--------------------\n",
      "code-tester\n",
      "2024-05-30 18:20:00.014084\n",
      "code-tester\n",
      "------------------JOB2-END--------------------\n",
      "coroutine_timer\n",
      "run_at_time_now\n",
      "2024-05-30 18:20:00.014084\n",
      "run_at_time_delay\n",
      "59.985916\n",
      "------------------JOB3-START--------------------\n",
      "api_heatbeat\n",
      "2024-05-30 18:21:00.014086\n",
      "api_heatbeat\n",
      "------------------JOB3-END--------------------\n",
      "main()-close\n",
      "coroutine_timer\n",
      "run_at_time_now\n",
      "2024-05-30 18:21:00.014086\n",
      "run_at_time_delay\n",
      "86279.985914\n"
     ]
    }
   ],
   "source": [
    "# define -> get running loop\n",
    "event_loop = asyncio.get_running_loop() # get_running_loop() function used to get the running event loop\n",
    "\n",
    "#\n",
    "if event_loop.is_running(): # is_running() function returns True if the event loop is running.\n",
    "    task = asyncio.create_task(main()) # create task -> scheduele co-routine (pass defined coroutine)"
   ]
  },
  {
   "cell_type": "markdown",
   "id": "b8aa3dae",
   "metadata": {},
   "source": [
    "Conclusion\n",
    "\n",
    "The asyncio module helps you execute multiple tasks concurrently without blocking the main thread of execution. Thus, can improve the performance and responsiveness of your program, especially when dealing with IO-bound operations such as network requests, file operations, or database queries. In this article, we used asyncio to build two programs that can rescue us from tiresome stuff. The code is simple, but the core idea will remain unchanged even in large applications."
   ]
  },
  {
   "cell_type": "markdown",
   "id": "35cae4a3",
   "metadata": {},
   "source": [
    "# CODE TESTING"
   ]
  },
  {
   "cell_type": "raw",
   "id": "8fd3d6c6",
   "metadata": {},
   "source": [
    "now = datetime.datetime.now()\n",
    "print(now)\n",
    "\n",
    "date = datetime.date.today()\n",
    "print(date)\n",
    "\n",
    "time = datetime.datetime.combine(datetime.date.today(), datetime.time(13, 34, 50))\n",
    "print(time)"
   ]
  },
  {
   "cell_type": "code",
   "execution_count": null,
   "id": "549cf371",
   "metadata": {},
   "outputs": [],
   "source": []
  }
 ],
 "metadata": {
  "kernelspec": {
   "display_name": "Python 3 (ipykernel)",
   "language": "python",
   "name": "python3"
  },
  "language_info": {
   "codemirror_mode": {
    "name": "ipython",
    "version": 3
   },
   "file_extension": ".py",
   "mimetype": "text/x-python",
   "name": "python",
   "nbconvert_exporter": "python",
   "pygments_lexer": "ipython3",
   "version": "3.10.9"
  }
 },
 "nbformat": 4,
 "nbformat_minor": 5
}
