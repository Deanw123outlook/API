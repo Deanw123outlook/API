{
 "cells": [
  {
   "cell_type": "markdown",
   "id": "69df2564",
   "metadata": {},
   "source": [
    "Building out a model that will test the Requests Session Object (Connection Pooling) returned request process times against Requests without the Session Object intiated (NON connection pooling)."
   ]
  },
  {
   "cell_type": "code",
   "execution_count": null,
   "id": "da18a42c",
   "metadata": {},
   "outputs": [],
   "source": [
    "import requests\n",
    "import numpy as np \n",
    "import pandas as pd\n",
    "\n",
    "import time\n",
    "from datetime import datetime"
   ]
  },
  {
   "cell_type": "code",
   "execution_count": null,
   "id": "ad4caf0b",
   "metadata": {},
   "outputs": [],
   "source": [
    "# public facing endpoint for testimg\n",
    "url = \"https://api.coindesk.com/v1/bpi/currentprice.json\""
   ]
  },
  {
   "cell_type": "code",
   "execution_count": null,
   "id": "2d90b6b8",
   "metadata": {},
   "outputs": [],
   "source": [
    "timestamps, test, elapsed_times, codes = ([] for i in range(4))"
   ]
  },
  {
   "cell_type": "code",
   "execution_count": null,
   "id": "ac4a92f6",
   "metadata": {},
   "outputs": [],
   "source": [
    "for i in range(1,30,1): # range(start,stop,step)\n",
    "    test.append(i) # append (add) items to list\n",
    "print(test)"
   ]
  },
  {
   "cell_type": "code",
   "execution_count": null,
   "id": "2447a800",
   "metadata": {},
   "outputs": [],
   "source": [
    "# Initiate Session Manager as Context Manager \n",
    "with requests.Session()as session:\n",
    "    for n in test:\n",
    "        try:\n",
    "            #\n",
    "            dt_req_start = datetime.now()\n",
    "            #\n",
    "            request = session.get(url)\n",
    "            request.raise_for_status() # check if succesfull repsonse code\n",
    "            code = request.status_code\n",
    "            codes.append(code)\n",
    "            print(request.status_code)\n",
    "            #\n",
    "            dt_req_fin = datetime.now() # Getting the current date and time request executed/processes (time will be close to time server was hit for request)\n",
    "            \n",
    "            #\n",
    "            timestamp = datetime.timestamp(dt_req_fin) # Getting the timestamp (time will be close to time server was hit for request)\n",
    "            print(timestamp)\n",
    "        \n",
    "            #\n",
    "            print(\"Requests-Proporty-Server-Repsonse-Time-Seconds\",request.elapsed.total_seconds()) # requests property elapsed returns delta between request sent and response receieved\n",
    "            t = request.elapsed.total_seconds()\n",
    "            \n",
    "            #\n",
    "            print(\"Server Request Start Date | Time (UTC) :\", dt_req_start)   \n",
    "            print(\"Server Request Finished Date | Time (UTC) :\", dt_req_fin)   \n",
    "        \n",
    "            # metadata\n",
    "            elapsed_times.append(t)\n",
    "            timestamps.append(timestamp)\n",
    "        \n",
    "        \n",
    "            # request response body analysis\n",
    "            response = request.json() # json() method (requests library) converts json request response body to Python Dictionary (outer layer) \n",
    "        \n",
    "            # Exception Handling\n",
    "        except requests.exceptions.ConnectionError as error:\n",
    "            raise SystemExit(error)\n",
    "        except requests.exceptions.HTTPError as error:\n",
    "            raise SystemExit(error)\n",
    "    \n",
    "        #\n",
    "        time.sleep(2)\n",
    "        session.close()\n",
    "        print(\"Confirm-Session-Closed\")\n",
    "    "
   ]
  },
  {
   "cell_type": "code",
   "execution_count": null,
   "id": "2f82dfc9",
   "metadata": {},
   "outputs": [],
   "source": [
    "metadata = pd.DataFrame({'Test-Number':test,'Request-Status-Code':codes,'Elapsed_Time':elapsed_times,'Timestamp':timestamps})\n",
    "metadata"
   ]
  },
  {
   "cell_type": "code",
   "execution_count": null,
   "id": "f2667674",
   "metadata": {},
   "outputs": [],
   "source": []
  }
 ],
 "metadata": {
  "kernelspec": {
   "display_name": "Python 3 (ipykernel)",
   "language": "python",
   "name": "python3"
  },
  "language_info": {
   "codemirror_mode": {
    "name": "ipython",
    "version": 3
   },
   "file_extension": ".py",
   "mimetype": "text/x-python",
   "name": "python",
   "nbconvert_exporter": "python",
   "pygments_lexer": "ipython3",
   "version": "3.10.9"
  }
 },
 "nbformat": 4,
 "nbformat_minor": 5
}
