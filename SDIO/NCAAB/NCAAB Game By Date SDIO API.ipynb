{
 "cells": [
  {
   "cell_type": "markdown",
   "id": "98f0e619",
   "metadata": {},
   "source": [
    "# NCAAB Games By Date\n",
    "\n",
    "SDIO Subscription has been removed for data privacy purposes."
   ]
  },
  {
   "cell_type": "code",
   "execution_count": null,
   "id": "220305bf",
   "metadata": {},
   "outputs": [],
   "source": [
    "import json # Python built-in package json for encoding and decoding JSON data.\n",
    "import requests # library for working with HTTP requests in Python\n",
    "import pandas as pd\n",
    "import numpy as np"
   ]
  },
  {
   "cell_type": "markdown",
   "id": "04a0d583",
   "metadata": {},
   "source": [
    "### Extract NCAAB Data from SDIO API\n",
    "\n",
    "Write a program that will extract specific information from NCAAB Game By Date endpoint and transform this into a pandas dataframe. We can also automatically export this to local file in excel format which is useful for investigation purposes,"
   ]
  },
  {
   "cell_type": "code",
   "execution_count": null,
   "id": "639e47cd",
   "metadata": {},
   "outputs": [],
   "source": [
    "# list of date/s\n",
    "dates = ['21-jan-24']"
   ]
  },
  {
   "cell_type": "code",
   "execution_count": null,
   "id": "cea8652b",
   "metadata": {},
   "outputs": [],
   "source": [
    "# to initialize multiple lists\n",
    "date, gameID, season, status, awayTeam, homeTeam, awayTeamID, homeTeamID, awayTeamScore, homeTeamScore, isClosed, UTC = ([] for i in range(12))"
   ]
  },
  {
   "cell_type": "code",
   "execution_count": null,
   "id": "3188f3d7",
   "metadata": {},
   "outputs": [],
   "source": [
    "for date in dates:\n",
    "    #\n",
    "    print(\"------------------------------------------------------------------------------------------------------------------\")\n",
    "    print(\"DATE : {}\".format(date))\n",
    "    \n",
    "    # build stings using list of dates  \n",
    "    string = \"https://api.sportsdata.io/v3/cbb/scores/json/GamesByDate/{}?key=x\" # {} acts as string placeholder\n",
    "    string = string.format(date) # format() method formats the specified date(s) and insert them inside the string's placeholder.\n",
    "    \n",
    "    # build URL parameters\n",
    "    url = (string)\n",
    "    response = requests.get(url) # get requests\n",
    "    print(url)\n",
    "\n",
    "    # Convert api get request body to JSON object\n",
    "    data = response.json() # convert to JSON \n",
    "    print(\"Request-Status-Code : {}\".format(response.status_code)) # get request status code\n",
    "    \n",
    "    for dict in data:\n",
    "        #\n",
    "        gameID.append(dict['GameID'])\n",
    "        season.append(dict['Season'])\n",
    "        status.append(dict['Status'])\n",
    "        awayTeam.append(dict['AwayTeam'])\n",
    "        homeTeam.append(dict['HomeTeam'])\n",
    "        awayTeamID.append(dict['AwayTeamID'])\n",
    "        homeTeamID.append(dict['HomeTeamID'])\n",
    "        awayTeamScore.append(dict['AwayTeamScore'])\n",
    "        homeTeamScore.append(dict['HomeTeamScore'])\n",
    "        isClosed.append(dict['IsClosed'])\n",
    "        UTC.append(dict['DateTimeUTC'])\n",
    "        #\n",
    "        \n",
    "#Create DataFrame including all above features and randomly generated data\n",
    "df = pd.DataFrame ({'DateTimeUTC':UTC,'GameID':gameID,'Season':season,'Status':status,'AwayTeam':awayTeam,'HomeTeam': homeTeam,\n",
    "                   'AwayTeamID':awayTeamID,'HomeTeamID':homeTeamID,'AwayTeamScore':awayTeamScore,'HomeTeamScore':homeTeamScore,\n",
    "                   'IsClosed':isClosed,'DateTimeUTC':UTC})\n",
    "#create a copy of original dataframe ...(good practice)\n",
    "original_dataframe = df.copy(deep = True)\n",
    "df"
   ]
  },
  {
   "cell_type": "raw",
   "id": "3d8068fd",
   "metadata": {},
   "source": [
    "df.to_excel(r'C:\\Users\\dwatters\\Documents\\Product Support\\Product Support\\API JSON python\\ncaab_neutral_venue_true.xlsx', index=False)"
   ]
  },
  {
   "cell_type": "markdown",
   "id": "3d57c48f",
   "metadata": {},
   "source": [
    "### Neutral Venue Checks\n",
    "\n",
    "Write a program where we can check NCAAB games netural venue across multiple dates. "
   ]
  },
  {
   "cell_type": "code",
   "execution_count": null,
   "id": "5eef97bf",
   "metadata": {},
   "outputs": [],
   "source": [
    "dates = ['19-jan-24','20-jan-24','21-jan-24']"
   ]
  },
  {
   "cell_type": "code",
   "execution_count": null,
   "id": "b2fade0a",
   "metadata": {},
   "outputs": [],
   "source": [
    "gameID, neutralVenue, dateTimeUTC, awayteam, hometeam = ([] for i in range(5))"
   ]
  },
  {
   "cell_type": "code",
   "execution_count": null,
   "id": "af9e39fc",
   "metadata": {},
   "outputs": [],
   "source": [
    "for date in dates:\n",
    "    #\n",
    "    print(\"------------------------------------------------------------------------------------------------------------------\")\n",
    "    print(\"DATE : {}\".format(date))\n",
    "    \n",
    "    # build stings using list of dates \n",
    "    string = \"https://api.sportsdata.io/v3/cbb/scores/json/GamesByDate/{}?key=x\" # {} acts as string placeholder\n",
    "    string = string.format(date) # format() method formats the specified date(s) and insert them inside the string's placeholder.\n",
    "    \n",
    "    # build URL parameters\n",
    "    url = (string)\n",
    "    response = requests.get(url) # get requests\n",
    "    print(url)\n",
    "\n",
    "    # Convert api get request body to JSON object\n",
    "    data = response.json() # convert to JSON \n",
    "    print(\"Request-Status-Code : {}\".format(response.status_code)) # get request status code\n",
    "    \n",
    "    for dict in data:\n",
    "        if dict['NeutralVenue'] == True:\n",
    "            print(dict['GameID'])\n",
    "            print(dict['NeutralVenue'])\n",
    "            print(date)\n",
    "            #\n",
    "            gameID.append(dict['GameID'])\n",
    "            neutralVenue.append(dict['NeutralVenue'])\n",
    "            awayteam.append(dict['AwayTeam'])\n",
    "            hometeam.append(dict['HomeTeam'])\n",
    "            dateTimeUTC.append(dict['DateTimeUTC'])\n",
    "            print()\n",
    "\n",
    "#Create DataFrame including all above features and randomly generated data\n",
    "venue = pd.DataFrame ({'GameID':gameID,'NeutralVenue':neutralVenue,'AwayTeam':awayteam,'HomeTeam':hometeam,'DateTimeUTC': dateTimeUTC})\n",
    "#create a copy of original dataframe ...(good practice)\n",
    "original_dataframe = df.copy(deep = True)\n",
    "\n",
    "venue"
   ]
  }
 ],
 "metadata": {
  "kernelspec": {
   "display_name": "Python 3 (ipykernel)",
   "language": "python",
   "name": "python3"
  },
  "language_info": {
   "codemirror_mode": {
    "name": "ipython",
    "version": 3
   },
   "file_extension": ".py",
   "mimetype": "text/x-python",
   "name": "python",
   "nbconvert_exporter": "python",
   "pygments_lexer": "ipython3",
   "version": "3.10.9"
  }
 },
 "nbformat": 4,
 "nbformat_minor": 5
}
