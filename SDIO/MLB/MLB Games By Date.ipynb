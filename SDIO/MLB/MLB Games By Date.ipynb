{
 "cells": [
  {
   "cell_type": "markdown",
   "id": "c9223442",
   "metadata": {},
   "source": [
    "# MLB Games By Date"
   ]
  },
  {
   "cell_type": "code",
   "execution_count": null,
   "id": "170282b8",
   "metadata": {},
   "outputs": [],
   "source": [
    "import json # Python built-in package json for encoding and decoding JSON data.\n",
    "import requests # library for working with HTTP requests in Python\n",
    "import pandas as pd\n",
    "import numpy as np\n",
    "\n",
    "from datetime import datetime"
   ]
  },
  {
   "cell_type": "code",
   "execution_count": null,
   "id": "a2a9fb98",
   "metadata": {},
   "outputs": [],
   "source": [
    "# list of date/s\n",
    "dates = ['03-apr-24']\n",
    "\n",
    "# empty lists to extract API response body data\n",
    "UTC, gameID, status, awayTeam, homeTeam, awayTeamID, homeTeamID, isClosed, gameEndDateTime = ([] for i in range(9))\n",
    "\n",
    "# metadata (extract from model for investigation/evidence purposes)\n",
    "request_sent_times, gameDates, responseCodes = ([] for i in range(3))"
   ]
  },
  {
   "cell_type": "code",
   "execution_count": null,
   "id": "1cb29d2f",
   "metadata": {},
   "outputs": [],
   "source": [
    "for date in dates:\n",
    "    #\n",
    "    print(\"------------------------------------------------------------------------------------------------------------------\")\n",
    "    print(\"DATE : {}\".format(date))\n",
    "    \n",
    "    # build stings using list of dates  \n",
    "    string = 'https://api.sportsdata.io/v3/mlb/scores/json/GamesByDate/{}?key=subscription-key' # {} acts as string placeholder\n",
    "    string = string.format(date) # format() method formats the specified date(s) and insert them inside the string's placeholder.\n",
    "    \n",
    "    # build URL parameters\n",
    "    url = (string)\n",
    "    response = requests.get(url) # get requests\n",
    "    print(url)\n",
    "    \n",
    "    # request datetime & tiimestamp\n",
    "    dt_request = datetime.now() # Getting the current date and time request executed/processes (time will be close to time server was hit for request)\n",
    "    print(dt_request)\n",
    "    #\n",
    "    request_timestamp = datetime.timestamp(dt_request) # Getting the timestamp (time will be close to time server was hit for request)\n",
    "    print(\"Server Request Time Sent :\", request_timestamp)\n",
    "\n",
    "    # Convert api get request body to JSON object\n",
    "    data = response.json() # convert to JSON \n",
    "    code = response.status_code\n",
    "    print(\"Request-Status-Code : {}\".format(code)) # get request status code\n",
    "    \n",
    "    # Resonse Body Data Extraction\n",
    "    for dict in data:\n",
    "        #\n",
    "        UTC.append(dict['DateTimeUTC']) # append methoad add item/s into pre-defined lists employed to extract data from API\n",
    "        gameID.append(dict['GameID'])\n",
    "        status.append(dict['Status'])\n",
    "        awayTeam.append(dict['AwayTeam'])\n",
    "        homeTeam.append(dict['HomeTeam'])\n",
    "        awayTeamID.append(dict['AwayTeamID'])\n",
    "        homeTeamID.append(dict['HomeTeamID'])\n",
    "        isClosed.append(dict['IsClosed'])\n",
    "        #\n",
    "    \n",
    "    # metadata\n",
    "    gameDates.append(date)\n",
    "    request_sent_times.append(dt_request) # append date/time server request to empty list\n",
    "    responseCodes.append(code)\n",
    "        \n",
    "#Create DataFrame including all above features and randomly generated data\n",
    "df = pd.DataFrame ({'DateTimeUTC':UTC,'GameID':gameID,'Status':status,'AwayTeam':awayTeam,'HomeTeam': homeTeam,\n",
    "                   'AwayTeamID':awayTeamID,'HomeTeamID':homeTeamID,'IsClosed':isClosed})\n",
    "\n",
    "metadata = pd.DataFrame({'Games-Date':gameDates,'Request-Sent-Timestamp-UTC':request_sent_times,'ResponseStatusCode':responseCodes})\n",
    "\n",
    "#create a copy of original dataframe ...(good practice)\n",
    "original_dataframe = df.copy(deep = True)\n",
    "df"
   ]
  },
  {
   "cell_type": "code",
   "execution_count": null,
   "id": "42aa184a",
   "metadata": {},
   "outputs": [],
   "source": [
    "metadata"
   ]
  },
  {
   "cell_type": "raw",
   "id": "f10f8e62",
   "metadata": {},
   "source": [
    "df.to_excel(r'C:\\Users\\dwatters\\Documents\\Product Support\\Product Support\\API JSON python\\NBA_games.xlsx', index=False)"
   ]
  }
 ],
 "metadata": {
  "kernelspec": {
   "display_name": "Python 3 (ipykernel)",
   "language": "python",
   "name": "python3"
  },
  "language_info": {
   "codemirror_mode": {
    "name": "ipython",
    "version": 3
   },
   "file_extension": ".py",
   "mimetype": "text/x-python",
   "name": "python",
   "nbconvert_exporter": "python",
   "pygments_lexer": "ipython3",
   "version": "3.10.9"
  }
 },
 "nbformat": 4,
 "nbformat_minor": 5
}
