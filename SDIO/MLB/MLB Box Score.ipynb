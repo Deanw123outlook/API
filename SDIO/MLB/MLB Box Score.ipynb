{
 "cells": [
  {
   "cell_type": "markdown",
   "id": "2a46c82b",
   "metadata": {},
   "source": [
    "# MLB BoxScore"
   ]
  },
  {
   "cell_type": "code",
   "execution_count": null,
   "id": "7ec65fd4",
   "metadata": {},
   "outputs": [],
   "source": [
    "import json # Python built-in package json for encoding and decoding JSON data.\n",
    "import requests # library for working with HTTP requests in Python\n",
    "import pandas as pd # pandas dataframe for complex analytics\n",
    "import numpy as np # numpy for numerical python (built for heavy computational powered library)\n",
    "\n",
    "from datetime import datetime # datetime module (library working with timestamps etc.)"
   ]
  },
  {
   "cell_type": "markdown",
   "id": "821a3160",
   "metadata": {},
   "source": [
    "### API REQUEST ANALYSIS\n",
    "\n",
    "GAME"
   ]
  },
  {
   "cell_type": "code",
   "execution_count": null,
   "id": "2c7fa8f6",
   "metadata": {},
   "outputs": [],
   "source": [
    "# list of games\n",
    "games = []"
   ]
  },
  {
   "cell_type": "markdown",
   "id": "a1ed23ff",
   "metadata": {},
   "source": [
    "NOTE\n",
    "\n",
    "Remember core programming principle DRY (DO NOT REPEAT YOURSELF)\n",
    "- List naming conventions below !"
   ]
  },
  {
   "cell_type": "code",
   "execution_count": null,
   "id": "23e7534e",
   "metadata": {},
   "outputs": [],
   "source": [
    "# pre-define empty data structures\n",
    "gameID, status, dateTime, ateam, hteam, atId, htId, isClosed, updated, gameEndDateTime, dateTimeUTC = ([] for i in range(11))\n",
    "\n",
    "# pre-define empty data structures\n",
    "inningId, gameId2, inningNumber, awayTeamRuns, homeTeamRuns = ([] for i in range(5))\n",
    "\n",
    "# pre-define empty data structures\n",
    "statID, teamID, name, team, gameid3, dateTime3, homeOrAway, isGameOver = ([] for i in range(8))\n",
    "\n",
    "# metadata\n",
    "mlbgames, requestTimeUTC, timeStamps, requestResponseTime = ([] for i in range(4))"
   ]
  },
  {
   "cell_type": "code",
   "execution_count": null,
   "id": "0799d5ac",
   "metadata": {},
   "outputs": [],
   "source": [
    "for item in games:\n",
    "    #\n",
    "    print(\"------------------------------------------------------------------------------------------------------------------\")\n",
    "    print(\"GameID : {}\".format(item))\n",
    "    \n",
    "    # build stings using list of dates  \n",
    "    string = 'https://api.sportsdata.io/v3/mlb/stats/json/BoxScore/{}?key=' # {} acts as string placeholder\n",
    "    string = string.format(item) # format() method formats the specified date(s) and insert them inside the string's placeholder.\n",
    "    \n",
    "    # build URL parameters\n",
    "    url = (string)\n",
    "    response = requests.get(url) # get requests\n",
    "    print(url)\n",
    "    \n",
    "    # metadata\n",
    "    dt = datetime.now() # Getting the current date and time\n",
    "    timestamp = datetime.timestamp(dt) # Getting the timestamp\n",
    "    print(\"Date | Time UTC :\", dt)\n",
    "    print(\"Requests-Elapsed-Time-Property-Seconds\",response.elapsed.total_seconds()) # requests property elapsed returns delta between request sent and response receieved\n",
    "    mlbgames.append(item)\n",
    "    timeStamps.append(timestamp)\n",
    "    requestTimeUTC.append(dt)\n",
    "    requestResponseTime.append(response.elapsed.total_seconds())\n",
    "    \n",
    "    # Request Analysis\n",
    "    data = response.json() #convert to JSON \n",
    "    \n",
    "    \n",
    "    # Game Data Extraction - Box Score\n",
    "    gameID.append(data['Game']['GameID'])\n",
    "    status.append(data['Game']['Status'])\n",
    "    dateTime.append(data['Game']['DateTime'])\n",
    "    ateam.append(data['Game']['AwayTeam'])\n",
    "    hteam.append(data['Game']['HomeTeam'])\n",
    "    atId.append(data['Game']['AwayTeamID'])\n",
    "    htId.append(data['Game']['HomeTeamID'])\n",
    "    isClosed.append(data['Game']['IsClosed'])\n",
    "    updated.append(data['Game']['Updated'])\n",
    "    gameEndDateTime.append(data['Game']['GameEndDateTime'])\n",
    "    dateTimeUTC.append(data['Game']['DateTimeUTC'])\n",
    "    \n",
    "    # Innings Data Extraction - Box Score\n",
    "    for x in range(len(data['Innings'])):\n",
    "        #\n",
    "        inningId.append(data['Innings'][x]['InningID'])\n",
    "        gameId2.append(data['Innings'][x]['GameID'])\n",
    "        inningNumber.append(data['Innings'][x]['InningNumber'])\n",
    "        awayTeamRuns.append(data['Innings'][x]['AwayTeamRuns'])\n",
    "        homeTeamRuns.append(data['Innings'][x]['HomeTeamRuns'])\n",
    "    \n",
    "    # TeamGames Data Extraction - Box Score\n",
    "    for i in range(len(data['TeamGames'])):\n",
    "        statID.append(data['TeamGames'][i]['StatID'])\n",
    "        teamID.append(data['TeamGames'][i]['TeamID'])\n",
    "        name.append(data['TeamGames'][i]['Name'])\n",
    "        team.append(data['TeamGames'][i]['Team'])\n",
    "        gameid3.append(data['TeamGames'][i]['GameID'])\n",
    "        dateTime3.append(data['TeamGames'][i]['DateTime'])\n",
    "        homeOrAway.append(data['TeamGames'][i]['HomeOrAway'])\n",
    "        isGameOver.append(data['TeamGames'][i]['IsGameOver'])\n",
    "\n",
    "# build pandas dataframe\n",
    "game = pd.DataFrame({'GameID':gameID, 'Status':status, 'DateTime':dateTime, 'Awayteam':ateam, \n",
    "                   'Hometeam':hteam, 'AwayTeamId':atId, 'HomeTeamId':htId, 'IsClosed':isClosed, \n",
    "                   'Updated':updated, 'GameEndDateTime':gameEndDateTime, 'DateTimeUTC':dateTimeUTC})\n",
    "\n",
    "# build pandas dataframe\n",
    "innings = pd.DataFrame({'GameId':gameId2,'InningId':inningId,'InningNumber':inningNumber, 'AwayTeamRuns':awayTeamRuns, \n",
    "                   'HomeTeamRuns':homeTeamRuns})\n",
    "\n",
    "# build pandas dataframe\n",
    "teamGames = pd.DataFrame({'StatID':statID,'TeamID':teamID,'Name':name,'Team':team,\n",
    "                         'Gameid':gameid3,'DateTime':dateTime3,'HomeOrAway':homeOrAway,\n",
    "                         'IsGameOver':isGameOver})\n",
    "\n",
    "# metadata\n",
    "metadata = pd.DataFrame({'GameID':mlbgames,'RequestTimeUTC':requestTimeUTC,'ReqResponseTime':requestResponseTime,\n",
    "                         'Timestamp':timeStamps})"
   ]
  },
  {
   "cell_type": "code",
   "execution_count": null,
   "id": "cb6676cf",
   "metadata": {},
   "outputs": [],
   "source": [
    "metadata"
   ]
  },
  {
   "cell_type": "code",
   "execution_count": null,
   "id": "606ba51f",
   "metadata": {},
   "outputs": [],
   "source": [
    "game"
   ]
  },
  {
   "cell_type": "code",
   "execution_count": null,
   "id": "49846355",
   "metadata": {},
   "outputs": [],
   "source": [
    "innings"
   ]
  },
  {
   "cell_type": "code",
   "execution_count": null,
   "id": "7cb0a9be",
   "metadata": {},
   "outputs": [],
   "source": [
    "teamGames"
   ]
  },
  {
   "cell_type": "raw",
   "id": "4f9ebc63",
   "metadata": {},
   "source": [
    "# print(len(data['Innings']))\n",
    "# print(data['Innings'][0])\n",
    "\n",
    "# pre-define empty data structures\n",
    "inningId, gameId, inningNumber, awayTeamRuns, homeTeamRuns = ([] for i in range(5))\n",
    "\n",
    "for x in range(len(data['Innings'])):\n",
    "    print(\"------------------------------------------------------------------------------------\")\n",
    "    print()\n",
    "    print(data['Innings'][x])\n",
    "    #\n",
    "    inningId.append(data['Innings'][x]['InningID'])\n",
    "    gameId.append(data['Innings'][x]['GameID'])\n",
    "    inningNumber.append(data['Innings'][x]['InningNumber'])\n",
    "    awayTeamRuns.append(data['Innings'][x]['AwayTeamRuns'])\n",
    "    homeTeamRuns.append(data['Innings'][x]['HomeTeamRuns'])\n",
    "    print()\n",
    "    print(\"------------------------------------------------------------------------------------\")\n",
    "    \n"
   ]
  },
  {
   "cell_type": "raw",
   "id": "54e0f538",
   "metadata": {},
   "source": [
    "# pre-define empty data structures\n",
    "statID, teamID, name, team, gameid, dateTime, homeOrAway, ssGameOver = ([] for i in range(7))\n",
    "\n",
    "#\n",
    "for i in range(len(data['TeamGames'])):\n",
    "    print(data['TeamGames'][i]['StatID'])\n",
    "    print(data['TeamGames'][i]['TeamID'])\n",
    "    print(data['TeamGames'][i]['Name'])\n",
    "\n",
    "    print(data['TeamGames'][i]['Team'])\n",
    "    print(data['TeamGames'][i]['DateTime'])\n",
    "    print(data['TeamGames'][i]['HomeOrAway'])\n",
    "    print(data['TeamGames'][i]['IsGameOver'])\n",
    "    print()"
   ]
  },
  {
   "cell_type": "raw",
   "id": "f410b247",
   "metadata": {},
   "source": [
    "# pre-define empty data structures\n",
    "statID, teamID, name, team, gameid, dateTime, homeOrAway, isGameOver = ([] for i in range(8))\n",
    "\n",
    "#\n",
    "for i in range(len(data['TeamGames'])):\n",
    "    statID.append(data['TeamGames'][i]['StatID'])\n",
    "    teamID.append(data['TeamGames'][i]['TeamID'])\n",
    "    name.append(data['TeamGames'][i]['Name'])\n",
    "    team.append(data['TeamGames'][i]['Team'])\n",
    "    gameid.append(data['TeamGames'][i]['GameID'])\n",
    "    dateTime.append(data['TeamGames'][i]['DateTime'])\n",
    "    homeOrAway.append(data['TeamGames'][i]['HomeOrAway'])\n",
    "    isGameOver.append(data['TeamGames'][i]['IsGameOver'])\n",
    "\n",
    "teamGames = pd.DataFrame({'StatID':statID,'TeamID':teamID,'Name':name,'Team':team,\n",
    "                         'Gameid':gameid,'DateTime':dateTime,'HomeOrAway':homeOrAway,\n",
    "                         'IsGameOver':isGameOver})\n",
    "\n",
    "teamGames"
   ]
  },
  {
   "cell_type": "markdown",
   "id": "529fb434",
   "metadata": {},
   "source": [
    "PLAYER GAMES"
   ]
  }
 ],
 "metadata": {
  "kernelspec": {
   "display_name": "Python 3 (ipykernel)",
   "language": "python",
   "name": "python3"
  },
  "language_info": {
   "codemirror_mode": {
    "name": "ipython",
    "version": 3
   },
   "file_extension": ".py",
   "mimetype": "text/x-python",
   "name": "python",
   "nbconvert_exporter": "python",
   "pygments_lexer": "ipython3",
   "version": "3.10.9"
  }
 },
 "nbformat": 4,
 "nbformat_minor": 5
}
