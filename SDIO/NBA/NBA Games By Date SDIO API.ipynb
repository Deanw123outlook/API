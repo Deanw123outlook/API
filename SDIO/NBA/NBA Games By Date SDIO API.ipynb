{
 "cells": [
  {
   "cell_type": "markdown",
   "id": "62f2173f",
   "metadata": {},
   "source": [
    "# NBA Games By Date\n",
    "\n",
    "SDIO Subscription has been removed for data privacy purposes."
   ]
  },
  {
   "cell_type": "code",
   "execution_count": null,
   "id": "503bac78",
   "metadata": {},
   "outputs": [],
   "source": [
    "import json # Python built-in package json for encoding and decoding JSON data.\n",
    "import requests # library for working with HTTP requests in Python\n",
    "import pandas as pd\n",
    "import numpy as np"
   ]
  },
  {
   "cell_type": "markdown",
   "id": "25127768",
   "metadata": {},
   "source": [
    "### Extract NBA Data from SDIO API\n",
    "\n",
    "Write a program that will extract specific information from NBA Game By Date endpoint and transform this into a pandas dataframe. We can also automatically export this to local file in excel format which is useful for investigation purposes,"
   ]
  },
  {
   "cell_type": "code",
   "execution_count": null,
   "id": "c50e1a6c",
   "metadata": {},
   "outputs": [],
   "source": [
    "# list of date/s\n",
    "dates = ['17-jan-24','18-jan-24','19-jan-24','20-jan-24','21-jan-24']"
   ]
  },
  {
   "cell_type": "code",
   "execution_count": null,
   "id": "c6cf5c98",
   "metadata": {},
   "outputs": [],
   "source": [
    "UTC, gameID, status, awayTeam, homeTeam, awayTeamID, homeTeamID, awayTeamScore, homeTeamScore, isClosed, gameEndDateTime = ([] for i in range(11))\n",
    "\n",
    "\n",
    "for date in dates:\n",
    "    #\n",
    "    print(\"------------------------------------------------------------------------------------------------------------------\")\n",
    "    print(\"DATE : {}\".format(date))\n",
    "    \n",
    "    # build stings using list of dates  \n",
    "    string = 'https://api.sportsdata.io/v3/nba/scores/json/GamesByDate/{}?key=x' # {} acts as string placeholder\n",
    "    string = string.format(date) # format() method formats the specified date(s) and insert them inside the string's placeholder.\n",
    "    \n",
    "    # build URL parameters\n",
    "    url = (string)\n",
    "    response = requests.get(url) # get requests\n",
    "    print(url)\n",
    "\n",
    "    # Convert api get request body to JSON object\n",
    "    data = response.json() # convert to JSON \n",
    "    print(\"Request-Status-Code : {}\".format(response.status_code)) # get request status code\n",
    "    \n",
    "    for dict in data:\n",
    "        #\n",
    "        UTC.append(dict['DateTimeUTC'])\n",
    "        gameID.append(dict['GameID'])\n",
    "        status.append(dict['Status'])\n",
    "        awayTeam.append(dict['AwayTeam'])\n",
    "        homeTeam.append(dict['HomeTeam'])\n",
    "        awayTeamID.append(dict['AwayTeamID'])\n",
    "        homeTeamID.append(dict['HomeTeamID'])\n",
    "        awayTeamScore.append(dict['AwayTeamScore'])\n",
    "        homeTeamScore.append(dict['HomeTeamScore'])\n",
    "        isClosed.append(dict['IsClosed'])\n",
    "        #\n",
    "        \n",
    "#Create DataFrame including all above features and randomly generated data\n",
    "df = pd.DataFrame ({'DateTimeUTC':UTC,'GameID':gameID,'Status':status,'AwayTeam':awayTeam,'HomeTeam': homeTeam,\n",
    "                   'AwayTeamID':awayTeamID,'HomeTeamID':homeTeamID,'AwayTeamScore':awayTeamScore,'HomeTeamScore':homeTeamScore,\n",
    "                   'IsClosed':isClosed})\n",
    "\n",
    "#create a copy of original dataframe ...(good practice)\n",
    "original_dataframe = df.copy(deep = True)\n",
    "df"
   ]
  },
  {
   "cell_type": "raw",
   "id": "62152fb1",
   "metadata": {},
   "source": [
    "df.to_excel(r'C:\\Users\\dwatters\\Documents\\Product Support\\Product Support\\API JSON python\\NBA_games.xlsx', index=False)"
   ]
  }
 ],
 "metadata": {
  "kernelspec": {
   "display_name": "Python 3 (ipykernel)",
   "language": "python",
   "name": "python3"
  },
  "language_info": {
   "codemirror_mode": {
    "name": "ipython",
    "version": 3
   },
   "file_extension": ".py",
   "mimetype": "text/x-python",
   "name": "python",
   "nbconvert_exporter": "python",
   "pygments_lexer": "ipython3",
   "version": "3.10.9"
  }
 },
 "nbformat": 4,
 "nbformat_minor": 5
}
