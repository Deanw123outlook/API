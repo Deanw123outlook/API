{
 "cells": [
  {
   "cell_type": "markdown",
   "id": "78e970a0",
   "metadata": {},
   "source": [
    "# Python SportsDataIO NBA PlayByPlay -  Template\n",
    "\n",
    "Request Library Documentation: https://requests.readthedocs.io/en/latest/\n",
    "\n",
    "Helpful tips for working with Python's Requests library https://realpython.com/python-requests/\n",
    "\n",
    "NOTE\n",
    "- The Hypertext Transfer Protocol (HTTP) is designed to enable communications between clients and servers.\n",
    "- HTTP works as a request-response protocol between a client and server.\n",
    "\n",
    "\n",
    "We can retrieve from the SDIO API which requires key authorization. From analysis of the JSON response body we have containers (reference to data held in specific data structures) that can be of interest.\n",
    "\n",
    "- Game\n",
    "- Quarters\n",
    "- Plays"
   ]
  },
  {
   "cell_type": "code",
   "execution_count": null,
   "id": "fe7dd0a4",
   "metadata": {},
   "outputs": [],
   "source": [
    "import json # Python built-in package json for encoding and decoding JSON data.\n",
    "import requests  # Python library for working with HTTP requests\n",
    "import pandas as pd\n",
    "import numpy as np"
   ]
  },
  {
   "cell_type": "code",
   "execution_count": null,
   "id": "e23f63f7",
   "metadata": {},
   "outputs": [],
   "source": [
    "url = ('https://api.sportsdata.io/v3/nba/pbp/json/PlayByPlay/xxxxx?key=')\n",
    "print(type(url))\n",
    "print(url)"
   ]
  },
  {
   "cell_type": "markdown",
   "id": "0b4592cf",
   "metadata": {},
   "source": [
    "NOTE\n",
    "The URL will not work as the key has been removed for privacy reasons as this is not open source data."
   ]
  },
  {
   "cell_type": "markdown",
   "id": "00ec3a73",
   "metadata": {},
   "source": [
    "HTTP Get Request\n",
    "- GET is used to request data from a specified resource."
   ]
  },
  {
   "cell_type": "code",
   "execution_count": null,
   "id": "14ea674d",
   "metadata": {},
   "outputs": [],
   "source": [
    "response = requests.get(url) # HTTP Get Request\n",
    "data = response.json() # convert request response to json object\n",
    "print(type(response))\n",
    "print(type(data))"
   ]
  },
  {
   "cell_type": "markdown",
   "id": "75dcabe3",
   "metadata": {},
   "source": [
    "### GAME"
   ]
  },
  {
   "cell_type": "code",
   "execution_count": null,
   "id": "0a68d616",
   "metadata": {},
   "outputs": [],
   "source": [
    "print(data['Game'])"
   ]
  },
  {
   "cell_type": "markdown",
   "id": "788e06a1",
   "metadata": {},
   "source": [
    "### Quarters"
   ]
  },
  {
   "cell_type": "code",
   "execution_count": null,
   "id": "2be1d40b",
   "metadata": {},
   "outputs": [],
   "source": [
    "#print(data['Quarters'])\n",
    "\n",
    "# dataframe\n",
    "df = pd.DataFrame(data['Quarters'])\n",
    "df"
   ]
  },
  {
   "cell_type": "markdown",
   "id": "987f60d1",
   "metadata": {},
   "source": [
    "We can export to an excel file onto a local folder."
   ]
  },
  {
   "cell_type": "raw",
   "id": "5e92bc37",
   "metadata": {},
   "source": [
    "df.to_excel(r'C:\\file_location\\nba_quarters_export_dataframe.xlsx', index=False)"
   ]
  },
  {
   "cell_type": "markdown",
   "id": "a69670ff",
   "metadata": {},
   "source": [
    "### PLAYS"
   ]
  },
  {
   "cell_type": "markdown",
   "id": "48dddab5",
   "metadata": {},
   "source": [
    "How many plays took place in this fixture ? This will be important for context and writing our program for pulling out specific Playe data here."
   ]
  },
  {
   "cell_type": "code",
   "execution_count": null,
   "id": "88a9d943",
   "metadata": {},
   "outputs": [],
   "source": [
    "play_total = len(data['Plays'])\n",
    "print(\"NBA PlayByPlay Total Game Plays: {}\".format(play_total))"
   ]
  },
  {
   "cell_type": "markdown",
   "id": "f75ac31a",
   "metadata": {},
   "source": [
    "NBA PlayByPlay - Plays (variables)\n",
    "- Here we can check what variables this data structure will contain and therefore will help build a good understanding of the data coming through."
   ]
  },
  {
   "cell_type": "raw",
   "id": "008a1950",
   "metadata": {},
   "source": [
    "print(data['Plays'][0].keys())"
   ]
  },
  {
   "cell_type": "markdown",
   "id": "04c4c81d",
   "metadata": {},
   "source": [
    "Below we will take a quick look at one individual Play."
   ]
  },
  {
   "cell_type": "raw",
   "id": "cc9b548a",
   "metadata": {},
   "source": [
    "print(data['Plays'][0])"
   ]
  },
  {
   "cell_type": "markdown",
   "id": "ae5935e8",
   "metadata": {},
   "source": [
    "Below we will write a short program for pulling out specific information we want to analyse. This is a brief example of what we can do here and will vary dependent on investigation goals."
   ]
  },
  {
   "cell_type": "code",
   "execution_count": null,
   "id": "7b60b7a4",
   "metadata": {},
   "outputs": [],
   "source": [
    "counter = 0 # counter variable to manually track loop count\n",
    "\n",
    "for x in data['Plays']: # for loop\n",
    "    counter += 1 # increment counter variable \n",
    "    #\n",
    "    print()\n",
    "    print(\"Play-Number:\", counter)\n",
    "    print(\"PlayID\",x['PlayID'])\n",
    "    print(\"QuarterID\",x['QuarterID'])\n",
    "    print(\"AwayTeamScore\",x['AwayTeamScore'])\n",
    "    print(\"HomeTeamScore\",x['HomeTeamScore'])\n",
    "    print(\"Category\",x['Category'])\n",
    "    print(\"Description\",x['Description'])\n",
    "    print()"
   ]
  },
  {
   "cell_type": "code",
   "execution_count": null,
   "id": "06129ff2",
   "metadata": {},
   "outputs": [],
   "source": []
  }
 ],
 "metadata": {
  "kernelspec": {
   "display_name": "Python 3 (ipykernel)",
   "language": "python",
   "name": "python3"
  },
  "language_info": {
   "codemirror_mode": {
    "name": "ipython",
    "version": 3
   },
   "file_extension": ".py",
   "mimetype": "text/x-python",
   "name": "python",
   "nbconvert_exporter": "python",
   "pygments_lexer": "ipython3",
   "version": "3.10.9"
  }
 },
 "nbformat": 4,
 "nbformat_minor": 5
}
