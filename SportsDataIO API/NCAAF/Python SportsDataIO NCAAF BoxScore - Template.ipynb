{
 "cells": [
  {
   "cell_type": "markdown",
   "id": "a7bbebe3",
   "metadata": {},
   "source": [
    "# Python SportsDataIO NCAAF BoxScore - Template\n",
    "\n",
    "Creating a Python Template where we can analyse SDIO API Box Score per game data. We can use this template to quickly work through the data and gather ewhat we need.\n",
    "\n",
    "The ability to work with basic data structures will be key for this task."
   ]
  },
  {
   "cell_type": "code",
   "execution_count": null,
   "id": "b2fb3299",
   "metadata": {},
   "outputs": [],
   "source": [
    "import json # Python built-in package json for encoding and decoding JSON data.\n",
    "import requests # library for working with HTTP requests in Python\n",
    "import pandas as pd\n",
    "import numpy as np\n",
    "import matplotlib.pyplot as plt\n",
    "import seaborn as sns"
   ]
  },
  {
   "cell_type": "markdown",
   "id": "748ff479",
   "metadata": {},
   "source": [
    "Below is an alternative way to pull in our API data using a get request in event we do not have an already pre-defined file."
   ]
  },
  {
   "cell_type": "code",
   "execution_count": null,
   "id": "3bbba7c2",
   "metadata": {},
   "outputs": [],
   "source": [
    "url = (\"https://api.sportsdata.io/v3/cfb/stats/json/BoxScore/14447?key=x\")\n",
    "print(url)\n",
    "print(type(url))"
   ]
  },
  {
   "cell_type": "markdown",
   "id": "baaf5d61",
   "metadata": {},
   "source": [
    "NOTE \n",
    "\n",
    "The URL will not work as the key has been removed for data privacy reasons as this is not open source data"
   ]
  },
  {
   "cell_type": "code",
   "execution_count": null,
   "id": "d60394d2",
   "metadata": {},
   "outputs": [],
   "source": [
    "response = requests.get(url) # get request\n",
    "\n",
    "data = response.json() #convert to JSON \n",
    "print(type(response))\n",
    "print(type(data))"
   ]
  },
  {
   "cell_type": "markdown",
   "id": "5c9951d4",
   "metadata": {},
   "source": [
    "Below we will read in our pre-defined JSON file."
   ]
  },
  {
   "cell_type": "raw",
   "id": "d270b945",
   "metadata": {},
   "source": [
    "# read JSON file to Python dictionary\n",
    "with open('Box Score (gameid).json') as data_file:    \n",
    "    data = json.load(data_file)\n",
    "    print(type(data))"
   ]
  },
  {
   "cell_type": "markdown",
   "id": "22c5564e",
   "metadata": {},
   "source": [
    "We can see above our outer layer of this JSON file is now a Python list. This would our data in what we already we know will be in the form of dictionaries. We can cut into our data to pull out required information.\n",
    "- Game\n",
    "- Periods\n",
    "- PlayerGames\n",
    "- TeamGames\n",
    "- ScoringPlays"
   ]
  },
  {
   "cell_type": "markdown",
   "id": "f26ad6e1",
   "metadata": {},
   "source": [
    "### Game"
   ]
  },
  {
   "cell_type": "raw",
   "id": "0ca7d959",
   "metadata": {},
   "source": [
    "print(data[0].keys())\n",
    "print(data[0]['Game'].values())"
   ]
  },
  {
   "cell_type": "code",
   "execution_count": null,
   "id": "915317c7",
   "metadata": {},
   "outputs": [],
   "source": [
    "print(len(data))\n",
    "print(type(data[0]['Game']))\n",
    "print(data[0]['Game'])"
   ]
  },
  {
   "cell_type": "markdown",
   "id": "d7cf07b3",
   "metadata": {},
   "source": [
    "### Periods"
   ]
  },
  {
   "cell_type": "code",
   "execution_count": null,
   "id": "61fb8617",
   "metadata": {},
   "outputs": [],
   "source": [
    "var = data[0]['Periods']\n",
    "print(var)"
   ]
  },
  {
   "cell_type": "code",
   "execution_count": null,
   "id": "515588f9",
   "metadata": {},
   "outputs": [],
   "source": [
    "df = pd.DataFrame(var) # convert to dictionary\n",
    "df "
   ]
  },
  {
   "cell_type": "markdown",
   "id": "de62f314",
   "metadata": {},
   "source": [
    "Visualize the data"
   ]
  },
  {
   "cell_type": "code",
   "execution_count": null,
   "id": "badda517",
   "metadata": {},
   "outputs": [],
   "source": [
    "#\n",
    "plt.figure(figsize=(5,3))\n",
    "sns.set_style('darkgrid')\n",
    "sns.scatterplot(x=df.Number, y=df.AwayScore, color = \"r\", alpha = 1.0).set(title=\"Period | Away Score\") # lineplot\n",
    "#\n",
    "plt.figure(figsize=(5,3))\n",
    "sns.set_style('darkgrid')\n",
    "sns.scatterplot(x=df.Number, y=df.HomeScore, color = \"b\", alpha = 1.0).set(title=\"Period | Home Score\") # lineplot"
   ]
  },
  {
   "cell_type": "raw",
   "id": "7270ec86",
   "metadata": {},
   "source": [
    "print(data[0]['Periods'][0].keys())\n",
    "print(data[0]['Periods'][0].values())"
   ]
  },
  {
   "cell_type": "markdown",
   "id": "dd44cb7c",
   "metadata": {},
   "source": [
    "### Player Games"
   ]
  },
  {
   "cell_type": "raw",
   "id": "5eb0e1db",
   "metadata": {},
   "source": [
    "print(data[0]['PlayerGames'][0].keys())\n",
    "print(data[0]['PlayerGames'][0].values())"
   ]
  },
  {
   "cell_type": "code",
   "execution_count": null,
   "id": "1d64f3c5",
   "metadata": {},
   "outputs": [],
   "source": [
    "print(data[0]['PlayerGames'][0].keys())"
   ]
  },
  {
   "cell_type": "markdown",
   "id": "0cbd49ce",
   "metadata": {},
   "source": [
    "How many Player Games  have we for this fixture ? This will be important for context and writing programs for pulling out specific Player Games data."
   ]
  },
  {
   "cell_type": "code",
   "execution_count": null,
   "id": "a53e3f33",
   "metadata": {},
   "outputs": [],
   "source": [
    "print(len(data[0]['PlayerGames']))"
   ]
  },
  {
   "cell_type": "raw",
   "id": "7b599d73",
   "metadata": {},
   "source": [
    "print(data[0]['PlayerGames'][59])"
   ]
  },
  {
   "cell_type": "markdown",
   "id": "40ae4cca",
   "metadata": {},
   "source": [
    "Write a small program that will pull out the player information for each individual record of PlayerGames below ! We want to save this data into a Python list. We will use this data structure as we will want to maintain the order of our data here. We are going to yous these data lists to build a apnadas dataframe and export this to an excel file as this wont be alot of data (roughly 60 records)"
   ]
  },
  {
   "cell_type": "code",
   "execution_count": null,
   "id": "ed63a180",
   "metadata": {},
   "outputs": [],
   "source": [
    "# list data structure (ordered data structure)\n",
    "player_ids = []\n",
    "names = []  \n",
    "positions = []\n",
    "\n",
    "# player games player info\n",
    "for container in data[0]['PlayerGames']:\n",
    "    # apppend data to out empty lists\n",
    "    player_ids.append(container['PlayerID'])\n",
    "    names.append(container['Name'])\n",
    "    positions.append(container['Position'])\n",
    "    \n",
    "#Create DataFrame including all above features and randomly generated data\n",
    "players = pd.DataFrame ({'PlayerIds':player_ids,'PlayerNames':names,'PlayerPositions':positions})\n",
    "#create a copy of original dataframe ...(good practice in event we do some df manipualtion)\n",
    "original_player_dataframe = players.copy(deep = True)\n",
    "\n",
    "#Display head of dataframe, dataset information, summary information & dataframe size\n",
    "display(players.head(), players.info(), players.describe(include=object), players.shape)"
   ]
  },
  {
   "cell_type": "markdown",
   "id": "2263a916",
   "metadata": {},
   "source": [
    "We can export the dataframe to an excel file as seen below."
   ]
  },
  {
   "cell_type": "code",
   "execution_count": null,
   "id": "1b2ceb00",
   "metadata": {},
   "outputs": [],
   "source": [
    "players.to_excel(r'C:\\file_location\\ncaaf_players_export_dataframe.xlsx', index=False)"
   ]
  },
  {
   "cell_type": "markdown",
   "id": "68304af9",
   "metadata": {},
   "source": [
    "### Team Games\n",
    "How many team games are included in our data for specific fixture."
   ]
  },
  {
   "cell_type": "code",
   "execution_count": null,
   "id": "93d7d60b",
   "metadata": {},
   "outputs": [],
   "source": [
    "print(len(data[0]['TeamGames']))"
   ]
  },
  {
   "cell_type": "code",
   "execution_count": null,
   "id": "8beb60dc",
   "metadata": {},
   "outputs": [],
   "source": [
    "print(data[0]['TeamGames'][0].keys())\n",
    "print(data[0]['TeamGames'][0].values())"
   ]
  },
  {
   "cell_type": "code",
   "execution_count": null,
   "id": "17524b5e",
   "metadata": {},
   "outputs": [],
   "source": [
    "print(data[0]['TeamGames'][1])"
   ]
  },
  {
   "cell_type": "markdown",
   "id": "af71535d",
   "metadata": {},
   "source": [
    "### ScoringPlays\n",
    "How many Scroing Plays are included in our data for specific fixture."
   ]
  },
  {
   "cell_type": "code",
   "execution_count": null,
   "id": "65a00816",
   "metadata": {},
   "outputs": [],
   "source": [
    "print(len(data[0]['ScoringPlays']))"
   ]
  },
  {
   "cell_type": "code",
   "execution_count": null,
   "id": "e3cff9b5",
   "metadata": {},
   "outputs": [],
   "source": [
    "print(data[0]['ScoringPlays'][0])"
   ]
  },
  {
   "cell_type": "code",
   "execution_count": null,
   "id": "3bc5285b",
   "metadata": {},
   "outputs": [],
   "source": [
    "plays = data[0]['ScoringPlays']"
   ]
  },
  {
   "cell_type": "code",
   "execution_count": null,
   "id": "3dcda0fd",
   "metadata": {},
   "outputs": [],
   "source": [
    "df2 = pd.DataFrame(plays) # convert to dictionary\n",
    "df2.drop(['GameID', 'TimeRemainingMinutes','TimeRemainingSeconds','DriveSummary','ScoringTeamID'], axis=1,inplace=True)\n",
    "df2.head()"
   ]
  },
  {
   "cell_type": "markdown",
   "id": "370efd05",
   "metadata": {},
   "source": [
    "We can export the dataframe to an excel file as seen below."
   ]
  },
  {
   "cell_type": "code",
   "execution_count": null,
   "id": "73b6a3c6",
   "metadata": {},
   "outputs": [],
   "source": [
    "df2.to_excel(r'C:\\file_location\\ncaaf_scoingPlays_export_dataframe.xlsx', index=False)"
   ]
  }
 ],
 "metadata": {
  "kernelspec": {
   "display_name": "Python 3 (ipykernel)",
   "language": "python",
   "name": "python3"
  },
  "language_info": {
   "codemirror_mode": {
    "name": "ipython",
    "version": 3
   },
   "file_extension": ".py",
   "mimetype": "text/x-python",
   "name": "python",
   "nbconvert_exporter": "python",
   "pygments_lexer": "ipython3",
   "version": "3.10.9"
  }
 },
 "nbformat": 4,
 "nbformat_minor": 5
}
